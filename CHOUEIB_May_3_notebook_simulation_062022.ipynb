{
 "cells": [
  {
   "cell_type": "markdown",
   "id": "b9e36d53",
   "metadata": {},
   "source": [
    "Olist, une entreprise brésilienne qui propose une solution de vente sur les marketplaces en ligne souhaite obtenir une segmentation de ses clients utilisable au quotidien par leur équipe marketing dans leurs campagnes de communication\n",
    "\n",
    "Objectifs :\n",
    "\n",
    "Comprendre les différents types d'utilisateurs grâce à leur comportement et à leurs données personnelles\n",
    "\n",
    "Fournir à Olist, une segmentation de ses clients avec une description actionable de cette segmantation et sa logique sous-jacente\n",
    "\n",
    "Fournir à Olist, une proposition de contrat de maintenance basée sur une analyse de la stabilité des segments au cours du temps\n",
    "\n",
    "Pour plus d'informations sur les données : https://www.kaggle.com/olistbr/brazilian-ecommerce\n",
    "\n",
    "Dans ce troisieme notebook du projet, on va faire une simulation de la stabilité des segments pour répondre au 3eme point de la liste des objectifs, a savoir le contrat de maintenance"
   ]
  },
  {
   "cell_type": "code",
   "execution_count": 2,
   "id": "f25298fd",
   "metadata": {},
   "outputs": [],
   "source": [
    "# Standards Librairies import\n",
    "\n",
    "from time import time\n",
    "from datetime import datetime, timedelta\n",
    "import warnings\n",
    "import numpy as np\n",
    "import pandas as pd\n",
    "import matplotlib as mpl\n",
    "import matplotlib.pyplot as plt\n",
    "import seaborn as sns\n",
    "\n",
    "from sklearn.preprocessing import StandardScaler, MinMaxScaler\n",
    "from sklearn.compose import ColumnTransformer, make_column_transformer\n",
    "from sklearn.pipeline import Pipeline, make_pipeline\n",
    "from sklearn.metrics import homogeneity_score, adjusted_rand_score, adjusted_mutual_info_score\n",
    "\n",
    "\n",
    "from math import pi\n",
    "\n",
    "# Clustering Librairies import\n",
    "\n",
    "from sklearn.cluster import KMeans\n",
    "\n",
    "from sklearn.metrics import silhouette_score\n",
    "\n",
    "\n",
    "\n",
    "warnings.filterwarnings('ignore')\n",
    "plt.rcParams.update({'font.size': 15})\n",
    "mpl.rcParams[\"figure.figsize\"] = (10, 8)\n"
   ]
  },
  {
   "cell_type": "code",
   "execution_count": 23,
   "id": "dd4fa8d3",
   "metadata": {},
   "outputs": [],
   "source": [
    "def calculate_df_period(df, initial, period):\n",
    "\n",
    "    \"\"\"cette fonction cree un fichier client en groupant les donnees par 'customer_unique id'\n",
    "    selon la periode initiale indiquee et/ou \n",
    "    selon une periode totale = initiale +period, \n",
    "    en calculant les 8 attributs pour chaque client, \n",
    "    et retourne les resultats dans un dataframe\"\"\"\n",
    "    \n",
    "    # Selectioner les donnees par periode\n",
    "\n",
    "    df['order_purchase_timestamp'] = pd.to_datetime(\n",
    "        df['order_purchase_timestamp'])\n",
    "\n",
    "    debut = df[\"order_purchase_timestamp\"].min()\n",
    "\n",
    "    period = 12 if initial is True else 12 + period\n",
    "\n",
    "    fin = debut + pd.DateOffset(months=period)\n",
    "\n",
    "    df = df.loc[(df[\"order_purchase_timestamp\"] >= debut)\n",
    "                & (df[\"order_purchase_timestamp\"] < fin)]\n",
    "\n",
    "    # calcul recency par rapport a la date la plus ancienne : plus recency est grande plus la date d'achat est recente\n",
    "\n",
    "    df['Recency'] = (df['order_purchase_timestamp'] -\n",
    "                     df[\"order_purchase_timestamp\"].min()).round('1d')\n",
    "\n",
    "    df['Recency'] = df['Recency'].astype(str).str.replace(\n",
    "        r'\\s+days.*', '', regex=True).astype(int)\n",
    "\n",
    "    # Group by customers_unique_id with sum or mean\n",
    "\n",
    "    df = df.groupby(\"customer_unique_id\")\\\n",
    "        .agg(Frequency=(\"order_id\", \"nunique\"),\n",
    "             Recency=('Recency', 'max'),\n",
    "             tot_payment=('payment', 'sum'),\n",
    "             tot_freight=(\"freight\", \"sum\"),\n",
    "             payment_type=(\"nb_payment_type\", \"mean\"),\n",
    "             payment_installment=(\"tot_payment_installment\", \"mean\"),\n",
    "             rev_score=(\"review_score\", \"mean\"),             \n",
    "             #nb_products=(\"product_id\", 'count'),\n",
    "             nb_items=('quantity', 'sum'))\n",
    "\n",
    "    # Freight ratio and total price\n",
    "\n",
    "    df['Monetary'] = df['tot_payment'] + df['tot_freight']\n",
    "    df = df.drop(['tot_payment', 'tot_freight'], axis=1)\n",
    "    \n",
    "    return df\n"
   ]
  },
  {
   "cell_type": "markdown",
   "id": "5ccbcdce",
   "metadata": {},
   "source": [
    "## Contrat de maintenance"
   ]
  },
  {
   "cell_type": "markdown",
   "id": "a3ab3268",
   "metadata": {},
   "source": [
    "Dans le but d'établir un contrat de maintenance de l'algorithme de segmentation client, nous devons tester sa stabilité dans le temps. Pour cela, nous devons recalculer les attributs en fonction d'une période donnée\n",
    "\n",
    "Adjusted Rand Index (ARI) est une mesure de similarité entre deux partitions d'un ensemble qui va nous permettre de determiner à quel moment les clients changent de Cluster.\n",
    "\n",
    "D'abord, on va calculer le score ARI pour la premiere annee et ensuite pour les 11 mois suivant (periode totale = 23mois) avec une iteration de 1 mois et en prenant garde à bien comparer les mêmes clients (ceux des 12 mois initiaux).\n",
    "\n",
    "\n",
    "\n"
   ]
  },
  {
   "cell_type": "code",
   "execution_count": 6,
   "id": "7e718536",
   "metadata": {},
   "outputs": [
    {
     "name": "stdout",
     "output_type": "stream",
     "text": [
      "<class 'pandas.core.frame.DataFrame'>\n",
      "RangeIndex: 100084 entries, 0 to 100083\n",
      "Data columns (total 12 columns):\n",
      " #   Column                    Non-Null Count   Dtype  \n",
      "---  ------                    --------------   -----  \n",
      " 0   order_id                  100084 non-null  object \n",
      " 1   order_purchase_timestamp  100084 non-null  object \n",
      " 2   product_id                100084 non-null  object \n",
      " 3   quantity                  100084 non-null  int64  \n",
      " 4   customer_unique_id        100084 non-null  object \n",
      " 5   customer_state            100084 non-null  float64\n",
      " 6   nb_payment_type           100084 non-null  float64\n",
      " 7   tot_payment_installment   100084 non-null  float64\n",
      " 8   payment_value             100084 non-null  float64\n",
      " 9   review_score              100084 non-null  int64  \n",
      " 10  payment                   100084 non-null  float64\n",
      " 11  freight                   100084 non-null  float64\n",
      "dtypes: float64(6), int64(2), object(4)\n",
      "memory usage: 9.2+ MB\n"
     ]
    }
   ],
   "source": [
    "df_reduit = pd.read_csv(\"df_reduit.csv\")  \n",
    "df_reduit.info()\n"
   ]
  },
  {
   "cell_type": "code",
   "execution_count": 7,
   "id": "12a0f29e",
   "metadata": {},
   "outputs": [
    {
     "data": {
      "text/plain": [
       "23"
      ]
     },
     "execution_count": 7,
     "metadata": {},
     "output_type": "execute_result"
    }
   ],
   "source": [
    "# la periode totale dans le dataset :\n",
    "\n",
    "df_reduit['order_purchase_timestamp'] = pd.to_datetime(\n",
    "    df_reduit['order_purchase_timestamp'])\n",
    "total_period = int((df_reduit[\"order_purchase_timestamp\"].max(\n",
    ") - df_reduit[\"order_purchase_timestamp\"].min())/np.timedelta64(1, 'M'))\n",
    "\n",
    "total_period\n"
   ]
  },
  {
   "cell_type": "markdown",
   "id": "5984c646",
   "metadata": {},
   "source": [
    "###  On va calculer ARI pour la premiere annee et ensuite pour les 11 mois suivant en iterant 1 mois (periode totale = 23mois)\n",
    "\n"
   ]
  },
  {
   "cell_type": "code",
   "execution_count": 14,
   "id": "c32e81b1",
   "metadata": {},
   "outputs": [],
   "source": [
    "# clustering sur les 12 premiers mois du dataset\n",
    "\n",
    "df_init = calculate_df_period(df_reduit, initial=True, period=1)\n"
   ]
  },
  {
   "cell_type": "code",
   "execution_count": 24,
   "id": "2dcec448",
   "metadata": {},
   "outputs": [],
   "source": [
    "# Kmeans on initial period\n",
    "\n",
    "preprocessor = ColumnTransformer([\n",
    "    ('scaler', MinMaxScaler(), df_init.columns)])\n",
    "\n",
    "kmeans_init = Pipeline([(\"preprocessor\", MinMaxScaler()),\n",
    "                        (\"kmeans\", KMeans(4, random_state=0))])\n",
    "kmeans_init.fit(df_init)\n",
    "init_labels = kmeans_init.named_steps['kmeans'].labels_\n"
   ]
  },
  {
   "cell_type": "code",
   "execution_count": 25,
   "id": "48dd935e",
   "metadata": {},
   "outputs": [
    {
     "name": "stdout",
     "output_type": "stream",
     "text": [
      "[[1, 0.9867653946329923], [2, 0.9727123430111965], [3, 0.9463449961476569], [4, 0.8568592606284624], [5, 0.800788595161256], [6, 0.7831236171325702], [7, 0.7697028304674621], [8, 0.45115188606942314], [9, 0.4504406368817926], [10, 0.4499508474832833]]\n"
     ]
    }
   ],
   "source": [
    "ari_score = []\n",
    "for p in np.arange(1, (total_period-12), 1):\n",
    "    # Create dataset for period\n",
    "    df_period = calculate_df_period(df_reduit,\n",
    "                                    initial=False,\n",
    "                                    period=p)\n",
    "\n",
    "    # Filter on initial customer client\n",
    "    df_period = df_period[df_period.index.isin(df_init.index)]\n",
    "\n",
    "    # K-Means\n",
    "    kmeans_p = Pipeline([(\"preprocessor\", MinMaxScaler()),\n",
    "                         (\"kmeans\", KMeans(4, random_state=0))])\n",
    "    kmeans_p.fit(df_period)\n",
    "    p_labels = kmeans_p.named_steps['kmeans'].labels_\n",
    "\n",
    "    # Calculate ARI score\n",
    "    ari_p = adjusted_rand_score(init_labels, kmeans_p[1].labels_)\n",
    "    ari_score.append([p, ari_p])\n",
    "print(ari_score)\n"
   ]
  },
  {
   "cell_type": "code",
   "execution_count": 35,
   "id": "b07b719f",
   "metadata": {},
   "outputs": [
    {
     "data": {
      "image/png": "[encoded data removed]",
      "text/plain": [
       "<Figure size 864x576 with 1 Axes>"
      ]
     },
     "metadata": {
      "needs_background": "light"
     },
     "output_type": "display_data"
    }
   ],
   "source": [
    "ari_score = pd.DataFrame(ari_score, columns=[\"periode\", \"ARI\"])\n",
    "\n",
    "# plot ARI Score\n",
    "fig = plt.figure(figsize=(12, 8))\n",
    "sns.lineplot(data=ari_score, x=\"periode\", y=\"ARI\")\n",
    "\n",
    "plt.axhline(y=ari_score.iloc[5][1], linestyle=\"--\",\n",
    "            color=\"green\",\n",
    "            xmax=0.56,\n",
    "            linewidth=1)\n",
    "plt.axvline(x=ari_score.iloc[5][0], linestyle=\"--\",\n",
    "            color=\"green\",\n",
    "            ymax=0.62,\n",
    "            linewidth=1)\n",
    "plt.grid()\n",
    "plt.xlabel(\"Période (mois)\")\n",
    "plt.ylabel(\"Score ARI\")\n",
    "plt.title(\"Stabilité temporelle de la segmentation par K-Means\",\n",
    "          fontsize=18,\n",
    "          color=\"b\")\n",
    "\n",
    "plt.savefig(\"Stabilité temporelle de la segmentation par K-Means\",\n",
    "            dpi=200, bbox_inches='tight')\n",
    "plt.show()\n"
   ]
  },
  {
   "cell_type": "markdown",
   "id": "55c9019b",
   "metadata": {},
   "source": [
    "## Conclusion :\n",
    "Selon les scores ARI obtenus sur les itérations par période de 1 mois, il y a une forte inflexion après 7 mois sur les clients initiaux. Il faudra donc prévoir la maintenance du programme de segmentation tous les 6 mois ou le score ARI passe en dessous de 0.8"
   ]
  }
 ],
 "metadata": {
  "kernelspec": {
   "display_name": "Python 3 (ipykernel)",
   "language": "python",
   "name": "python3"
  },
  "language_info": {
   "codemirror_mode": {
    "name": "ipython",
    "version": 3
   },
   "file_extension": ".py",
   "mimetype": "text/x-python",
   "name": "python",
   "nbconvert_exporter": "python",
   "pygments_lexer": "ipython3",
   "version": "3.7.9"
  },
  "vscode": {
   "interpreter": {
    "hash": "1f2ac25b4a6d870602abfa5d74e7d6f1ae274ba9e86645830384575c0e5c89f3"
   }
  }
 },
 "nbformat": 4,
 "nbformat_minor": 5
}
